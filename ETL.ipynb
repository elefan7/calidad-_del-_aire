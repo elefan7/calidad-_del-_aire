{
 "cells": [
  {
   "cell_type": "markdown",
   "metadata": {},
   "source": [
    "# Interpretación de Resultados\n",
    "\n",
    "La consulta SQL combina datos demográficos y de calidad del aire para ciudades, ordenándolos por la \"Población Total\" en orden descendente y limitando los resultados a las 10 primeras filas.\n",
    "\n",
    "Los campos seleccionados incluyen todas las columnas de ambas tablas porque se utiliza SELECT *. Sin embargo, el orden y la limitación de filas proporcionan un conjunto específico de resultados."
   ]
  },
  {
   "cell_type": "markdown",
   "metadata": {},
   "source": [
    "# Datos demograficos"
   ]
  },
  {
   "cell_type": "markdown",
   "metadata": {},
   "source": [
    "## Descarga de datos demográficos:\n",
    "\n",
    "* Utiliza la URL proporcinada para descargar datos demograficos en formato csv.\n",
    "* Lee los datos en un DataFrame de pandas('data').\n",
    "\n",
    "## Procesamiento de datos demográficos:\n",
    "\n",
    "* Eliminacion de columnas 'Race', 'Count', y 'Number of Veterans'.\n",
    "* Elimina filas duplicadas.\n",
    "\n",
    "## Retorno de datos demograficos procesados:\n",
    "\n",
    "* Devuelve el DataFrame procesado ('data')\n",
    "\n",
    "## Prueba de la función:\n",
    "\n",
    "* Llama a la función 'ej_1_caragar_datos_demograficos' y almacena el resultadoen el DataFrame 'df'"
   ]
  },
  {
   "cell_type": "markdown",
   "metadata": {},
   "source": [
    "# Calidad del aire"
   ]
  },
  {
   "cell_type": "markdown",
   "metadata": {},
   "source": [
    "## Descarga de datos de calidad del aire:\n",
    "\n",
    "* Itera sobre un conjunto de ciudades.\n",
    "* Para cada ciudad, utiliza una API para obtener datos de calidad del aire en formato JSON.\n",
    "* Almacena estos datos en un diccionario ('data').\n",
    "\n",
    "## Procesamiento de datos de calidad del aire:\n",
    "\n",
    "* Crea un DataFrame ('calidad_air_df') a partir del diccionario.\n",
    "* Guarda el DataFrame en un archivo CSV llamado \"ciudades.csv\".\n",
    "\n",
    "## Prueba de la función:\n",
    "\n",
    "* Llama a la función 'ej_1_cargar_datos_demograficos' y almacena el resultado en el DataFrame df.\n",
    "* Llama a la función 'ej_2_cargar_calidad_aire' con el conjunto de ciudades obtenido de 'df[\"City\"].tolist()'.\n",
    "* Lee el archivo CSV \"ciudades.csv\" en un nuevo DataFrame llamado 'ciudades_df'.\n",
    "* Muestra las primeras 10 filas del DataFrame resultante."
   ]
  },
  {
   "cell_type": "markdown",
   "metadata": {},
   "source": [
    "# Base de datos SQLite"
   ]
  },
  {
   "cell_type": "markdown",
   "metadata": {},
   "source": [
    "## Parte 3: Consulta SQL y Resultado Final / Carga de datos en SQLite:\n",
    "\n",
    "* Carga los DataFrames 'df_demograficos' y 'ciudades_df' en una base de datos SQLite llamada 'dat_demog_air'.\n",
    "\n",
    "## Consulta SQL y resultado final:\n",
    "\n",
    "* Ejecuta una consulta SQL que realiza un JOIN entre las tablas 'demograficos' y 'Calidad_aire' en la columna \"City\".\n",
    "* Ordena los resultados por la columna \"Total Population\" de manera descendente y limita los resultados a 10 filas.\n",
    "* Imprime el resultado de la consulta SQL."
   ]
  }
 ],
 "metadata": {
  "kernelspec": {
   "display_name": "Python 3",
   "language": "python",
   "name": "python3"
  },
  "language_info": {
   "codemirror_mode": {
    "name": "ipython",
    "version": 3
   },
   "file_extension": ".py",
   "mimetype": "text/x-python",
   "name": "python",
   "nbconvert_exporter": "python",
   "pygments_lexer": "ipython3",
   "version": "3.11.4"
  }
 },
 "nbformat": 4,
 "nbformat_minor": 2
}
